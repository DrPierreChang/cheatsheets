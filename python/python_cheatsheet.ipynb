{
 "cells": [
  {
   "cell_type": "markdown",
   "id": "dbd1186d",
   "metadata": {},
   "source": [
    "# Strings"
   ]
  },
  {
   "cell_type": "markdown",
   "id": "439a7caa",
   "metadata": {},
   "source": [
    "- Emoji in unicode https://unicode-table.com/ru/sets/emoji/"
   ]
  },
  {
   "cell_type": "code",
   "execution_count": 2,
   "id": "211e4f63",
   "metadata": {},
   "outputs": [
    {
     "name": "stdout",
     "output_type": "stream",
     "text": [
      "I love 🐰\n"
     ]
    }
   ],
   "source": [
    "# emoji\n",
    "unicode_rabbit = \"I love \\N{Rabbit Face}\"\n",
    "print(unicode_rabbit)"
   ]
  },
  {
   "cell_type": "code",
   "execution_count": 5,
   "id": "ba8d3ddc",
   "metadata": {},
   "outputs": [
    {
     "name": "stdout",
     "output_type": "stream",
     "text": [
      "I ain't gonna\n",
      "I ain\"t gonna\n",
      "I ain't gonna\n"
     ]
    }
   ],
   "source": [
    "# several ways to use quotes\n",
    "# \\n is used to move on next line\n",
    "\n",
    "with_quote1 = \"I ain't gonna\"\n",
    "with_quote2 = 'I ain\"t gonna'\n",
    "with_quote3 = 'I ain\\'t gonna'\n",
    "print(with_quote1, with_quote2, with_quote3, sep=\"\\n\")"
   ]
  },
  {
   "cell_type": "code",
   "execution_count": 6,
   "id": "dce2b294",
   "metadata": {},
   "outputs": [
    {
     "name": "stdout",
     "output_type": "stream",
     "text": [
      "\\\n"
     ]
    }
   ],
   "source": [
    "# if it is necessary to use a slash in a string, then it can also be escaped\n",
    "print(\"\\\\\")"
   ]
  },
  {
   "cell_type": "code",
   "execution_count": 7,
   "id": "2e377923",
   "metadata": {},
   "outputs": [
    {
     "name": "stdout",
     "output_type": "stream",
     "text": [
      "\\tText \\\\\n"
     ]
    }
   ],
   "source": [
    "# the string can be output in raw form\n",
    "slash_t = r'\\tText \\\\'\n",
    "print(slash_t)"
   ]
  },
  {
   "cell_type": "code",
   "execution_count": 8,
   "id": "4fbc105f",
   "metadata": {},
   "outputs": [
    {
     "name": "stdout",
     "output_type": "stream",
     "text": [
      "Lorem ipsum dolor\n",
      "sit amet, consectetur adipisicing\n",
      "elit, sed do eiusmod tempor incididunt\n",
      "ut labore et dolore magna aliqua. Ut\n",
      "enimad minim veniam, quis nostrud\n",
      "exercitation ullamco laboris nisi ut\n",
      "aliquip ex ea commodo consequat. Duis\n",
      "aute irure dolor in reprehenderit in\n",
      "voluptate velit esse cillum dolore eu\n",
      "fugiat nulla pariatur. Excepteur sint\n",
      "occaecat cupidatat non proident, sunt\n",
      "in culpa qui officia deserunt mollit\n",
      "anim id est laborum.\n"
     ]
    }
   ],
   "source": [
    "# triple quotes are handy for creating paragraph-separated lines\n",
    "paragraph = \"\"\"Lorem ipsum dolor\n",
    "sit amet, consectetur adipisicing\n",
    "elit, sed do eiusmod tempor incididunt\n",
    "ut labore et dolore magna aliqua. Ut\n",
    "enimad minim veniam, quis nostrud\n",
    "exercitation ullamco laboris nisi ut\n",
    "aliquip ex ea commodo consequat. Duis\n",
    "aute irure dolor in reprehenderit in\n",
    "voluptate velit esse cillum dolore eu\n",
    "fugiat nulla pariatur. Excepteur sint\n",
    "occaecat cupidatat non proident, sunt\n",
    "in culpa qui officia deserunt mollit\n",
    "anim id est laborum.\"\"\"\n",
    "\n",
    "print(paragraph)"
   ]
  },
  {
   "cell_type": "code",
   "execution_count": 11,
   "id": "79cacdb0",
   "metadata": {},
   "outputs": [
    {
     "name": "stdout",
     "output_type": "stream",
     "text": [
      "This string has double \" and single '\n",
      "quotes inside of it \n",
      "\n",
      "This string has double \" and single '\n",
      "quotes inside of it\"\n"
     ]
    }
   ],
   "source": [
    "# double and single quotes can be used in strings with triple quotes without formatting\n",
    "print(\"\"\"This string has double \" and single '\n",
    "quotes inside of it \\n\"\"\")\n",
    "\n",
    "# but if they are at the end of the line, then you need to escape it\n",
    "print(\"\"\"This string has double \" and single '\n",
    "quotes inside of it\\\"\"\"\")"
   ]
  },
  {
   "cell_type": "markdown",
   "id": "6bfb3be8",
   "metadata": {},
   "source": [
    "## Formaing syntaxis"
   ]
  },
  {
   "cell_type": "code",
   "execution_count": 12,
   "id": "536f2dee",
   "metadata": {},
   "outputs": [
    {
     "name": "stdout",
     "output_type": "stream",
     "text": [
      "Name: Paul \n",
      "\n",
      "Name: John \n",
      "\n",
      "Name: George \n",
      "\n",
      "Last: John First: Paul\n"
     ]
    }
   ],
   "source": [
    "# empty fields\n",
    "print('Name: {} \\n'.format('Paul'))\n",
    "\n",
    "# contains an argument\n",
    "print('Name: {name} \\n'.format(name='John'))\n",
    "\n",
    "# index in list or dictionary\n",
    "print('Name: {[name]} \\n'.format({'name':'George'}))\n",
    "\n",
    "# position\n",
    "print('Last: {2} First: {0}'.format('Paul', 'George', 'John'))"
   ]
  },
  {
   "cell_type": "code",
   "execution_count": 17,
   "id": "de68750c",
   "metadata": {},
   "outputs": [
    {
     "name": "stdout",
     "output_type": "stream",
     "text": [
      "Name: ***Ringo****\n"
     ]
    }
   ],
   "source": [
    "# output align\n",
    "# * symbol to fill free space\n",
    "# ^ field for center align\n",
    "# 12 width field (amount of symbols)\n",
    "\n",
    "print(\"Name: {:*^12}\".format(\"Ringo\"))"
   ]
  },
  {
   "cell_type": "code",
   "execution_count": 18,
   "id": "9f4e3763",
   "metadata": {},
   "outputs": [
    {
     "data": {
      "text/plain": [
       "'Percent: -44.0%'"
      ]
     },
     "execution_count": 18,
     "metadata": {},
     "output_type": "execute_result"
    }
   ],
   "source": [
    "# = align\n",
    "# + guarantees sign output for negative and positive values\n",
    "# 10.1 width and precision field\n",
    "# % converting a number to a percentage\n",
    "\"Percent: {:=+6.1%}\".format(-44/100)"
   ]
  },
  {
   "cell_type": "code",
   "execution_count": 1,
   "id": "3fbdf1a4",
   "metadata": {},
   "outputs": [
    {
     "name": "stdout",
     "output_type": "stream",
     "text": [
      "Binary: 1100 \n",
      "\n",
      "Hex: c\n"
     ]
    }
   ],
   "source": [
    "# binary conversion\n",
    "print(\"Binary: {:b} \\n\".format(12))\n",
    "\n",
    "# hex conversion\n",
    "print(\"Hex: {:x}\".format(12))"
   ]
  },
  {
   "cell_type": "code",
   "execution_count": 24,
   "id": "18ae0ce7",
   "metadata": {},
   "outputs": [
    {
     "name": "stdout",
     "output_type": "stream",
     "text": [
      "Num: 12 Hex: d\n",
      "hello world\n"
     ]
    }
   ],
   "source": [
    "# another way to format strings\n",
    "print( \"Num: %d Hex: %x\" % (12, 13))\n",
    "print(\"%s %s\" % ('hello', 'world'))"
   ]
  },
  {
   "cell_type": "code",
   "execution_count": 27,
   "id": "9e8f0b1d",
   "metadata": {},
   "outputs": [],
   "source": [
    "# formating docs\n",
    "# help('FORMATTING')\n",
    "# https://pyformat.info/\n",
    "# https://docs.python.org/3/library/string.html"
   ]
  },
  {
   "cell_type": "markdown",
   "id": "5741baf2",
   "metadata": {},
   "source": [
    "## F strings"
   ]
  },
  {
   "cell_type": "code",
   "execution_count": 29,
   "id": "ec7990fd",
   "metadata": {},
   "outputs": [
    {
     "name": "stdout",
     "output_type": "stream",
     "text": [
      "My name is Andrey\n"
     ]
    }
   ],
   "source": [
    "# modern wat of string formatting\n",
    "name = \"andrey\"\n",
    "print(f'My name is {name.capitalize()}')"
   ]
  },
  {
   "cell_type": "markdown",
   "id": "e23a01e9",
   "metadata": {},
   "source": [
    "########################"
   ]
  },
  {
   "cell_type": "code",
   "execution_count": 30,
   "id": "4d1efcdc",
   "metadata": {},
   "outputs": [
    {
     "name": "stdout",
     "output_type": "stream",
     "text": [
      "This is omega: ω\n",
      "This is omega: ω\n"
     ]
    }
   ],
   "source": [
    "# two wais to get greek symbols\n",
    "print(\"This is omega: \\N{Greek Small Letter Omega}\")\n",
    "print(\"This is omega: \\u03C9\")"
   ]
  }
 ],
 "metadata": {
  "kernelspec": {
   "display_name": "Python 3 (ipykernel)",
   "language": "python",
   "name": "python3"
  },
  "language_info": {
   "codemirror_mode": {
    "name": "ipython",
    "version": 3
   },
   "file_extension": ".py",
   "mimetype": "text/x-python",
   "name": "python",
   "nbconvert_exporter": "python",
   "pygments_lexer": "ipython3",
   "version": "3.8.11"
  }
 },
 "nbformat": 4,
 "nbformat_minor": 5
}
